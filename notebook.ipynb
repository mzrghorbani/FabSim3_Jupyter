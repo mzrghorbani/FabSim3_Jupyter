{
 "cells": [
  {
   "cell_type": "markdown",
   "id": "3b7ed2eb-ec51-4e60-b87e-7a6c4186ead9",
   "metadata": {},
   "source": [
    "## Setting up and Running FabSim3 in Jupyter Notebook"
   ]
  },
  {
   "cell_type": "markdown",
   "id": "73d30ba1-b344-4568-a7df-8ea1ac976731",
   "metadata": {},
   "source": [
    "### 1- Clonning FabSim3 from GitHub"
   ]
  },
  {
   "cell_type": "code",
   "execution_count": null,
   "id": "ed645fb7-254a-4419-8a7f-b4736d8453c9",
   "metadata": {},
   "outputs": [],
   "source": [
    "%%bash\n",
    "\n",
    "if [ ! -d \"FabSim3\" ]\n",
    "then\n",
    "    git clone https://github.com/djgroen/FabSim3\n",
    "    echo \"FabSim3 rep cloned in -> \" $PWD\n",
    "else\n",
    "    git -C FabSim3 pull\n",
    "    echo \"Updating FabSim3 repository cloned in -> \" $PWD\n",
    "fi"
   ]
  },
  {
   "cell_type": "markdown",
   "id": "fe045937-77d0-4fdf-af5c-2423c47834bb",
   "metadata": {},
   "source": [
    "### 2- Creating and adding SSH Key to authorized keys for SSH authentication"
   ]
  },
  {
   "cell_type": "code",
   "execution_count": null,
   "id": "5f356863-f7b0-4c68-9cae-afb24d52a166",
   "metadata": {},
   "outputs": [],
   "source": [
    "%%bash\n",
    "\n",
    "if [ ! -f ~/.ssh/id_rsa ]; then\n",
    "    ssh-keygen -t rsa -N \"\" -f ~/.ssh/id_rsa\n",
    "else\n",
    "    echo \"SSH key already exists\"\n",
    "fi\n",
    "cat ~/.ssh/id_rsa.pub >> ~/.ssh/authorized_keys\n",
    "chmod og-wx ~/.ssh/authorized_keys\n",
    "ssh-keyscan -H localhost >> ~/.ssh/known_hosts"
   ]
  },
  {
   "cell_type": "markdown",
   "id": "e52b2557-4084-4edb-8e2c-5fe8fdde9504",
   "metadata": {},
   "source": [
    "### 3- Installing Python Dependencies for FabSim3"
   ]
  },
  {
   "cell_type": "code",
   "execution_count": null,
   "id": "4dd65f9a-fcd6-42fd-8e2e-7a109a112263",
   "metadata": {},
   "outputs": [],
   "source": [
    "pip install -r FabSim3/requirements.txt"
   ]
  },
  {
   "cell_type": "markdown",
   "id": "bea4d479-661a-4d88-8417-10ec06c03c6b",
   "metadata": {},
   "source": [
    "### 4- Configuring machine_user.yml file specific to a user (e.g., username and directories)"
   ]
  },
  {
   "cell_type": "code",
   "execution_count": null,
   "id": "7e42cc06-c2da-4797-b250-0bc33ad10c0d",
   "metadata": {},
   "outputs": [],
   "source": [
    "%%bash\n",
    "\n",
    "PORT=22\n",
    "\n",
    "# Configure machines_user.yml\n",
    "cp FabSim3/fabsim/deploy/machines_user_example.yml FabSim3/fabsim/deploy/machines_user.yml\n",
    "\n",
    "# Defines your username from local configuration\n",
    "sed -i \"s/your-username/`whoami`/g\" FabSim3/fabsim/deploy/machines_user.yml\n",
    "\n",
    "# Defines port number for localhost connection\n",
    "sed -i \"s#localhost:#localhost:\\n  port: $PORT#g\" FabSim3/fabsim/deploy/machines_user.yml\n",
    "\n",
    "# Defines working directory for configs and results directories\n",
    "sed -i \"s#localhost:#localhost:\\n  local_configs: \\\"$PWD/FabSim3/config_files\\\"#g\" FabSim3/fabsim/deploy/machines_user.yml\n",
    "sed -i \"s#localhost:#localhost:\\n  local_results: \\\"$PWD/FabSim3/results\\\"#g\" FabSim3/fabsim/deploy/machines_user.yml\n",
    "\n",
    "# Defines home path for execution\n",
    "sed -i \"s#localhost:#localhost:\\n  home_path_template: \\\"$PWD/FabSim3/localhost_exe\\\"#g\" FabSim3/fabsim/deploy/machines_user.yml"
   ]
  },
  {
   "cell_type": "markdown",
   "id": "79f42294-e117-4478-a5d1-f028d652039c",
   "metadata": {},
   "source": [
    "### 5- Adding FabSim3 to the System PATH and PYTHONPATH"
   ]
  },
  {
   "cell_type": "code",
   "execution_count": null,
   "id": "ad5a432c-c1c9-4246-a898-8fe20d6fc747",
   "metadata": {},
   "outputs": [],
   "source": [
    "import os\n",
    "import sys\n",
    "\n",
    "# print(os.environ['PATH'])\n",
    "sys.path.insert(0,  r'%s/FabSim3/fabsim/bin' %(os.getcwd()))\n",
    "sys.path.insert(0,  r'%s/FabSim3/fabsim' %(os.getcwd()))\n",
    "os.environ['PATH']=r'%s/FabSim3/fabsim/bin' %(os.getcwd())+os.pathsep+os.environ['PATH']\n",
    "\n",
    "# Test if fabsim command is availble\n",
    "!which fabsim"
   ]
  },
  {
   "cell_type": "markdown",
   "id": "666988e4-f6fe-40d2-9f0f-bf7c6f3fa413",
   "metadata": {},
   "source": [
    "## Installing and Testing FabSim3 with Simple \"FabDummy\" Plugin, locally"
   ]
  },
  {
   "cell_type": "markdown",
   "id": "bec8232a-22aa-479b-9787-faff478aff1e",
   "metadata": {},
   "source": [
    "### 1- Installig FabDummy Plugin"
   ]
  },
  {
   "cell_type": "code",
   "execution_count": null,
   "id": "cadac38b-f377-4607-9fdc-267448040811",
   "metadata": {},
   "outputs": [],
   "source": [
    "%%bash\n",
    "\n",
    "# Install FabDummy\n",
    "fabsim localhost install_plugin:FabDummy"
   ]
  },
  {
   "cell_type": "markdown",
   "id": "bd7f2242-69c6-4f47-9b63-eb4964da1a4e",
   "metadata": {},
   "source": [
    "### 2- Running FabDummy test"
   ]
  },
  {
   "cell_type": "code",
   "execution_count": null,
   "id": "1e3acde9-097f-4344-a834-f74433194531",
   "metadata": {},
   "outputs": [],
   "source": [
    "%%bash\n",
    "\n",
    "# Execute a dummy test job\n",
    "fabsim localhost dummy:dummy_test"
   ]
  },
  {
   "cell_type": "markdown",
   "id": "179fbe94-550c-4329-81fc-49cb31c36e69",
   "metadata": {},
   "source": [
    "### 3- Fetching the Results"
   ]
  },
  {
   "cell_type": "code",
   "execution_count": null,
   "id": "623f788b-1fbc-418e-8799-bdde460659ac",
   "metadata": {},
   "outputs": [],
   "source": [
    "%%bash\n",
    "\n",
    "fabsim localhost fetch_results"
   ]
  },
  {
   "cell_type": "markdown",
   "id": "ae805e8e-3541-4b6d-ab80-1e3b093604f4",
   "metadata": {},
   "source": [
    "### 4- Checking the Results Directory"
   ]
  },
  {
   "cell_type": "code",
   "execution_count": null,
   "id": "244d8640-6e0d-4e11-bf99-9949cd086e5f",
   "metadata": {},
   "outputs": [],
   "source": [
    "ls $PWD/FabSim3/results/dummy_test_localhost_4"
   ]
  },
  {
   "cell_type": "markdown",
   "id": "b356808d-a86f-417c-95c3-9873d381c5ce",
   "metadata": {},
   "source": [
    "## List All FabSim3 Plugins"
   ]
  },
  {
   "cell_type": "code",
   "execution_count": null,
   "id": "8b1e10d9-1121-47b7-89cb-9396e7ba764d",
   "metadata": {},
   "outputs": [],
   "source": [
    "fabsim localhost -l machines"
   ]
  },
  {
   "cell_type": "markdown",
   "id": "fa5594ba-eac8-4879-8235-f853ddbba24b",
   "metadata": {},
   "source": [
    "## Cloning and Running Flee using FabFlee Plugin, locally"
   ]
  },
  {
   "cell_type": "markdown",
   "id": "1c1b63d7-2d4b-4386-8369-6b82a78c1b04",
   "metadata": {},
   "source": [
    "### 1- Installing FabFlee Plugin"
   ]
  },
  {
   "cell_type": "code",
   "execution_count": null,
   "id": "e6206440-c1e4-4e35-9002-018df84fca3e",
   "metadata": {},
   "outputs": [],
   "source": [
    "%%bash\n",
    "\n",
    "# Install FabFlee \n",
    "fabsim localhost install_plugin:FabFlee"
   ]
  },
  {
   "cell_type": "markdown",
   "id": "c15169a5-74df-46a6-a65e-ec66ed4ff339",
   "metadata": {},
   "source": [
    "### 2- Copying machines_FabFlee_user.yml to machines_FabFlee_user.yml"
   ]
  },
  {
   "cell_type": "code",
   "execution_count": null,
   "id": "f23facec-063b-4a74-ba11-77b3f91cf180",
   "metadata": {},
   "outputs": [],
   "source": [
    "%%bash\n",
    "\n",
    "PORT=22\n",
    "\n",
    "# Configure machines_FabFlee_user.yml\n",
    "cp FabSim3/plugins/FabFlee/machines_FabFlee_user_example.yml FabSim3/plugins/FabFlee/machines_FabFlee_user.yml"
   ]
  },
  {
   "cell_type": "markdown",
   "id": "6056aff2-bc36-4d57-a040-93054b8915d9",
   "metadata": {},
   "source": [
    "### 3- Cloning Flee\n",
    "To run flee locally, we need to install FabFlee Plugin, clone flee locally, and let FabFlee know where flee can be found. We can either add flee_location to machines_user.yml or machines_FabFlee_user.yml"
   ]
  },
  {
   "cell_type": "code",
   "execution_count": null,
   "id": "8e60868f-d676-40b4-a638-1b89c45dae0f",
   "metadata": {},
   "outputs": [],
   "source": [
    "%%bash\n",
    "\n",
    "git clone https://github.com/djgroen/flee.git"
   ]
  },
  {
   "cell_type": "markdown",
   "id": "18a684c9-7e59-456f-8352-8580d4ad0538",
   "metadata": {},
   "source": [
    "### 4- Adding flee location to machines_FabFlee_user.yml"
   ]
  },
  {
   "cell_type": "code",
   "execution_count": null,
   "id": "43303d0c-eceb-4048-aab3-4d142eba73b1",
   "metadata": {},
   "outputs": [],
   "source": [
    "!sed -i  \"s#<PATH_TO_FLEE>#$PWD/flee#g\" FabSim3/plugins/FabFlee/machines_FabFlee_user.yml"
   ]
  },
  {
   "cell_type": "markdown",
   "id": "c74a3d21-4de3-46bb-9618-c62c0678bbfc",
   "metadata": {},
   "source": [
    "### 5- Running flee locally"
   ]
  },
  {
   "cell_type": "code",
   "execution_count": null,
   "id": "6aa40716-0d9d-49b5-9250-4aec8ffea5f3",
   "metadata": {},
   "outputs": [],
   "source": [
    "%%bash\n",
    "\n",
    "fabsim localhost pflee:mali2022_2024,simulation_period=1"
   ]
  },
  {
   "cell_type": "markdown",
   "id": "d04205a2-3ccd-48a0-a6e9-42f4d5ea7a66",
   "metadata": {},
   "source": [
    "## Modifying machine_user.yml file specific to ARCHER2. \n",
    "Please set these variables before running the code. The example of ARCHER2 username is \"mzr123\", project is \"e723\", and budget is \"e723-brunel\"."
   ]
  },
  {
   "cell_type": "code",
   "execution_count": null,
   "id": "b2dc1ec7-e4ff-4754-8bce-339ebfc19d0f",
   "metadata": {},
   "outputs": [],
   "source": [
    "ARCHER2_username = \"ARCHER2 USERNAME\"\n",
    "project_code = \"ARCHER2 PROJECT CODE\"\n",
    "budget_code = \"ARCHER2 BUDGET CODE\""
   ]
  },
  {
   "cell_type": "markdown",
   "id": "0f74b41b-6fd2-4992-8323-cadf0cd8e493",
   "metadata": {},
   "source": [
    "#### Modifying machine_user.yml file specific to ARCHER2. "
   ]
  },
  {
   "cell_type": "code",
   "execution_count": null,
   "id": "83e7ea82-b3db-4e2a-b5ce-765aba8da7cd",
   "metadata": {},
   "outputs": [],
   "source": [
    "import yaml\n",
    "\n",
    "# Path to the machines_user.yml file\n",
    "machines_user_path = os.path.join(\"FabSim3\", \"fabsim\", \"deploy\", \"machines_user.yml\")\n",
    "\n",
    "# Load the existing data\n",
    "with open(machines_user_path, 'r', encoding='utf-8') as file:\n",
    "    config = yaml.safe_load(file)\n",
    "\n",
    "# Update the archer2 section\n",
    "config['archer2'] = {\n",
    "    'username': f\"{ARCHER2_username}\",\n",
    "    'manual_ssh': True,\n",
    "    'flee_location': f\"/work/{project_code}/{project_code}/{ARCHER2_username}/flee\",\n",
    "    'remote': \"archer2\",\n",
    "    'project': f\"{project_code}\",\n",
    "    'budget': f\"{budget_code}\",\n",
    "    'job_wall_time': \"10:00:00\",\n",
    "    'run_prefix_commands': [f\"export PYTHONUSERBASE=/work/{project_code}/{project_code}/{ARCHER2_username}/.local\", \n",
    "                            \"export PATH=$PYTHONUSERBASE/bin:$PATH\", \n",
    "                            \"export PYTHONPATH=$PYTHONUSERBASE/lib/python3.8/site-packages:$PYTHONPATH\"]\n",
    "}\n",
    "\n",
    "# Write the updated data back to the file\n",
    "with open(machines_user_path, 'w', encoding='utf-8') as file:\n",
    "    yaml.safe_dump(config, file, default_flow_style=False, sort_keys=False)"
   ]
  },
  {
   "cell_type": "markdown",
   "id": "7cf2e241-2624-4e98-acbf-a0c717329334",
   "metadata": {},
   "source": [
    "#### Modifying machine_FabFlee_user.yml file specific to ARCHER2. "
   ]
  },
  {
   "cell_type": "code",
   "execution_count": null,
   "id": "08420623-1b97-4f2d-9e84-d9021ec6b80a",
   "metadata": {},
   "outputs": [],
   "source": [
    "import yaml\n",
    "\n",
    "# Path to the machines_user.yml file\n",
    "machines_user_path = os.path.join(\"FabSim3\", \"plugins\", \"FabFlee\", \"machines_FabFlee_user.yml\")\n",
    "\n",
    "# Load the existing data\n",
    "with open(machines_user_path, 'r', encoding='utf-8') as file:\n",
    "    config = yaml.safe_load(file)\n",
    "\n",
    "# Update the archer2 section\n",
    "config['archer2'] = {\n",
    "    'username': f\"{ARCHER2_username}\",\n",
    "    'manual_ssh': True,\n",
    "    'flee_location': f\"/work/{project_code}/{project_code}/{ARCHER2_username}/flee\",\n",
    "    'remote': \"archer2\",\n",
    "    'project': f\"{project_code}\",\n",
    "    'budget': f\"{budget_code}\",\n",
    "    'job_wall_time': \"10:00:00\",\n",
    "    'run_prefix_commands': [f\"export PYTHONUSERBASE=/work/{project_code}/{project_code}/{ARCHER2_username}/.local\", \n",
    "                            \"export PATH=$PYTHONUSERBASE/bin:$PATH\", \n",
    "                            \"export PYTHONPATH=$PYTHONUSERBASE/lib/python3.8/site-packages:$PYTHONPATH\"]\n",
    "}\n",
    "\n",
    "# Write the updated data back to the file\n",
    "with open(machines_user_path, 'w', encoding='utf-8') as file:\n",
    "    yaml.safe_dump(config, file, default_flow_style=False, sort_keys=False)"
   ]
  },
  {
   "cell_type": "markdown",
   "id": "a2dcc1d7-f41f-44c4-8f8d-0626d77a854b",
   "metadata": {},
   "source": [
    "### Cloning Flee in ARCHER2, Remotely\n",
    "Same here, to run flee remotley on ARCHER2, we need to clone flee in ARCHER2. We can do this manually by logging to ARCHER2 and clone flee or use the cell below:"
   ]
  },
  {
   "cell_type": "code",
   "execution_count": null,
   "id": "088c001e-e479-44ed-9b23-907a02e87d0b",
   "metadata": {},
   "outputs": [],
   "source": [
    "import subprocess\n",
    "\n",
    "# Clean up the username by stripping any unwanted characters\n",
    "ARCHER2_username = ARCHER2_username.strip()\n",
    "\n",
    "# Construct the SSH command\n",
    "ssh_command = f'ssh {ARCHER2_username}@login.archer2.ac.uk \"cd /work/{project_code}/{project_code}/{ARCHER2_username} && if [ ! -d flee ]; then git clone https://github.com/djgroen/flee.git; else echo \\\"Repository already exists. Skipping clone.\\\"; fi\"'\n",
    "\n",
    "# Execute the command\n",
    "try:\n",
    "    result = subprocess.run(ssh_command, shell=True, capture_output=True, text=True)\n",
    "    print(result.stdout)\n",
    "    if result.returncode != 0:\n",
    "        print(f\"Error: {result.stderr}\")\n",
    "except Exception as e:\n",
    "    print(f\"SSH command failed: {str(e)}\")"
   ]
  },
  {
   "cell_type": "markdown",
   "id": "72b5c0d6-ac0c-483f-af92-c528eb34f622",
   "metadata": {},
   "source": [
    "### SSH Connection for Running Flee Remotely\n",
    "To make authentication straightforward, please ssh to archer2 before executing jobs remotely. You can do this in a termainal by issuing command \"ssh <ARCHER2_username>@login.archer2.ac.uk\""
   ]
  },
  {
   "cell_type": "markdown",
   "id": "21eb14c0-2c4b-44c8-85a4-c9f4fa2c53c0",
   "metadata": {},
   "source": [
    "### Running flee on ARCHER2"
   ]
  },
  {
   "cell_type": "code",
   "execution_count": null,
   "id": "08991286-7db3-4fee-9ed5-b4b1b65f34ad",
   "metadata": {},
   "outputs": [],
   "source": [
    "%%bash\n",
    "\n",
    "fabsim archer2 pflee:mali2022_2024,cores=4,simulation_period=1"
   ]
  },
  {
   "cell_type": "markdown",
   "id": "213c5610-6314-4642-9bc4-9ce072f6d4f6",
   "metadata": {},
   "source": [
    "### Checking the status of the job"
   ]
  },
  {
   "cell_type": "code",
   "execution_count": null,
   "id": "00d21115-20d4-447d-8dc9-c73aafeae605",
   "metadata": {},
   "outputs": [],
   "source": [
    "%%bash \n",
    "\n",
    "fabsim archer2 stat"
   ]
  },
  {
   "cell_type": "markdown",
   "id": "e80156b3-822c-4b44-bc72-4b91e847bde9",
   "metadata": {},
   "source": [
    "### Fetching the Result "
   ]
  },
  {
   "cell_type": "code",
   "execution_count": null,
   "id": "2330a26f-d28f-4304-83ab-315053d760f4",
   "metadata": {},
   "outputs": [],
   "source": [
    "%%bash\n",
    "\n",
    "fabsim archer2 fetch_results"
   ]
  },
  {
   "cell_type": "markdown",
   "id": "f886a2f7-eab3-4964-a408-1086a1b190fb",
   "metadata": {},
   "source": [
    "### Experiment with Other Plugins"
   ]
  },
  {
   "cell_type": "code",
   "execution_count": null,
   "id": "fc347386-fdc8-4cf7-b36f-03bdeb524752",
   "metadata": {},
   "outputs": [],
   "source": [
    "%%bash\n",
    "\n",
    "fabsim localhost avail_plugin"
   ]
  },
  {
   "cell_type": "code",
   "execution_count": null,
   "id": "05360d86-a2c3-4b03-9562-60a70ae13aa4",
   "metadata": {},
   "outputs": [],
   "source": [
    "%%bash\n",
    "\n",
    "fabsim localhost install_plugin:<plugin from the list of FabSim3 plugins>"
   ]
  }
 ],
 "metadata": {
  "kernelspec": {
   "display_name": "Python 3 (ipykernel)",
   "language": "python",
   "name": "python3"
  },
  "language_info": {
   "codemirror_mode": {
    "name": "ipython",
    "version": 3
   },
   "file_extension": ".py",
   "mimetype": "text/x-python",
   "name": "python",
   "nbconvert_exporter": "python",
   "pygments_lexer": "ipython3",
   "version": "3.10.12"
  }
 },
 "nbformat": 4,
 "nbformat_minor": 5
}
